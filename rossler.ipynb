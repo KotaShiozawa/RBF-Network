{
 "cells": [
  {
   "cell_type": "code",
   "execution_count": null,
   "metadata": {},
   "outputs": [],
   "source": [
    "import sys\n",
    "sys.path.append(r'lib')\n",
    "import random\n",
    "import numpy as np\n",
    "import matplotlib.pyplot as plt\n",
    "from scipy.integrate import odeint\n",
    "from scipy.signal import find_peaks\n",
    "from sklearn.decomposition import PCA\n",
    "from rbf_network import RBF_network\n",
    "from RBFN import RBFN\n",
    "from chaos import rossler\n",
    "np.random.seed(seed=0)\n",
    "random.seed(1111)"
   ]
  },
  {
   "attachments": {},
   "cell_type": "markdown",
   "metadata": {},
   "source": [
    "# Generate data"
   ]
  },
  {
   "cell_type": "code",
   "execution_count": null,
   "metadata": {},
   "outputs": [],
   "source": [
    "# parameters\n",
    "a = 0.2\n",
    "b = 0.2\n",
    "c_list = [5]\n",
    "# initial values\n",
    "x0 = [1, 1, 0]\n",
    "# setting\n",
    "dt = 0.01\n",
    "cut = 100000\n",
    "T = 1100000\n",
    "\n",
    "num_time_series = len(c_list)\n",
    "times = np.arange(0.0, int((T+cut)*dt), dt)\n",
    "\n",
    "X_list = []\n",
    "for c in c_list:\n",
    "    args = (a, b, c)\n",
    "    X = odeint(rossler, x0, times, args)[cut:,]\n",
    "    X_list.append(X)\n",
    "    plt.figure()\n",
    "    plt.plot(X[:, 0], X[:, 1])"
   ]
  },
  {
   "attachments": {},
   "cell_type": "markdown",
   "metadata": {},
   "source": [
    "# Data shaping"
   ]
  },
  {
   "cell_type": "code",
   "execution_count": null,
   "metadata": {},
   "outputs": [],
   "source": [
    "# Free-runによる再構成アトラクターはtime delayに依存するので\n",
    "# time delayを適切な値に設定する必要がある\n",
    "# 訓練・検証用情報\n",
    "train = 10000\n",
    "dim = 3\n",
    "time_delay = 1\n",
    "var = 0\n",
    "# rbf network のパラメータ\n",
    "gamma = 10**-3\n",
    "N_c = 150\n",
    "\n",
    "centers = np.zeros((train*len(c_list), dim))\n",
    "U_test = np.zeros((train*len(c_list), 1))\n",
    "U_train = []\n",
    "D_train = []\n",
    "for i, X in enumerate(X_list):\n",
    "    X = X[np.arange(0, T, time_delay), var]\n",
    "    X = np.array([X[i:i-dim-1] for i in range(dim+1)]).T\n",
    "    \n",
    "    centers[i*(train):(i+1)*(train), :] = X[:train, :-1]\n",
    "    U_test[i*(train):(i+1)*(train), :] = X[:train, -1:]\n",
    "    U_train.append(X[:train, :-1])\n",
    "    D_train.append(X[:train, -1:])\n",
    "\n",
    "\n"
   ]
  },
  {
   "attachments": {},
   "cell_type": "markdown",
   "metadata": {},
   "source": [
    "# My RBFN"
   ]
  },
  {
   "cell_type": "code",
   "execution_count": null,
   "metadata": {},
   "outputs": [],
   "source": [
    "idx = []\n",
    "for i in range(len(c_list)):\n",
    "    idx += random.sample(range((train-1)*i, (train-1)*(i+1)), N_c)\n",
    "\n",
    "rbfn = RBF_network(centers[idx, ], gamma)\n",
    "W_list = []\n",
    "K_list = []\n",
    "for U_train_i, D_train_i in zip(U_train, D_train):\n",
    "    W, K = rbfn.fit(U_train_i, D_train_i, return_K=True)\n",
    "    W_list.append(W)\n",
    "    K_list.append(K)\n",
    "\n",
    "fig, axes = plt.subplots(1, 1, sharex='all', figsize=(18, 6))\n",
    "for i, (W, U_train_i, D_train_i) in enumerate(zip(W_list, U_train, D_train)):\n",
    "    pred = rbfn.predict(U_train_i, W)\n",
    "    axes.plot(pred[:, 0])\n",
    "    axes.plot(D_train_i[:, 0], '--')"
   ]
  },
  {
   "attachments": {},
   "cell_type": "markdown",
   "metadata": {},
   "source": [
    "# Not my RBFN"
   ]
  },
  {
   "cell_type": "code",
   "execution_count": null,
   "metadata": {},
   "outputs": [],
   "source": [
    "model = RBFN(hidden_shape=150, sigma=gamma)\n",
    "W, G = model.fit(U_train_i, D_train_i.flatten())\n",
    "predictions = model.predict(U_train_i)\n",
    "\n",
    "fig, axes = plt.subplots(1, 1, sharex='all', figsize=(18, 6))\n",
    "for i, (W, U_train_i, D_train_i) in enumerate(zip(W_list, U_train, D_train)):\n",
    "    pred = rbfn.predict(U_train_i, W)\n",
    "    axes.plot(predictions)\n",
    "    axes.plot(D_train_i[:, 0], '--')"
   ]
  },
  {
   "cell_type": "code",
   "execution_count": null,
   "metadata": {},
   "outputs": [],
   "source": [
    "plt.plot(G[:, 3])"
   ]
  },
  {
   "cell_type": "code",
   "execution_count": null,
   "metadata": {},
   "outputs": [],
   "source": [
    "plt.plot(K[:, 101])"
   ]
  },
  {
   "cell_type": "code",
   "execution_count": null,
   "metadata": {},
   "outputs": [],
   "source": []
  }
 ],
 "metadata": {
  "kernelspec": {
   "display_name": "venv",
   "language": "python",
   "name": "python3"
  },
  "language_info": {
   "codemirror_mode": {
    "name": "ipython",
    "version": 3
   },
   "file_extension": ".py",
   "mimetype": "text/x-python",
   "name": "python",
   "nbconvert_exporter": "python",
   "pygments_lexer": "ipython3",
   "version": "3.9.13"
  },
  "orig_nbformat": 4,
  "vscode": {
   "interpreter": {
    "hash": "d562a260e1400d628153ac8c70b0d30ae85e14d810f96e447fd16dd8bd0d867f"
   }
  }
 },
 "nbformat": 4,
 "nbformat_minor": 2
}
